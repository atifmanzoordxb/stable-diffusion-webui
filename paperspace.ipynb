
cyberes/gradient-base-py3.10:latest


## Run a1111
%cd /storage/stable-diffusion-webui
!bash webui.sh -f --xformers --share --ckpt-dir /tmp/models
